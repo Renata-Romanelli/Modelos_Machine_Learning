{
  "nbformat": 4,
  "nbformat_minor": 0,
  "metadata": {
    "colab": {
      "name": "ML_Arvores_de_decisao.ipynb",
      "provenance": [],
      "mount_file_id": "15-ym2TF5el1CCWygRIrYmdVvq2yFCM6r",
      "authorship_tag": "ABX9TyPv0BOtbbKKPzxxw2YpKT4k",
      "include_colab_link": true
    },
    "kernelspec": {
      "name": "python3",
      "display_name": "Python 3"
    },
    "language_info": {
      "name": "python"
    }
  },
  "cells": [
    {
      "cell_type": "markdown",
      "metadata": {
        "id": "view-in-github",
        "colab_type": "text"
      },
      "source": [
        "<a href=\"https://colab.research.google.com/github/Renata-Romanelli/Modelos_Machine_Learning/blob/main/ML_Arvores_de_decisao.ipynb\" target=\"_parent\"><img src=\"https://colab.research.google.com/assets/colab-badge.svg\" alt=\"Open In Colab\"/></a>"
      ]
    },
    {
      "cell_type": "code",
      "execution_count": null,
      "metadata": {
        "colab": {
          "base_uri": "https://localhost:8080/",
          "height": 300
        },
        "id": "OaNDFEAr6Unq",
        "outputId": "6878f3d5-4700-4a5f-9d22-5487ae5b1b6c"
      },
      "outputs": [
        {
          "output_type": "execute_result",
          "data": {
            "text/plain": [
              "   Time        V1        V2        V3        V4        V5        V6        V7  \\\n",
              "0     0 -1.359807 -0.072781  2.536347  1.378155 -0.338321  0.462388  0.239599   \n",
              "1     0  1.191857  0.266151  0.166480  0.448154  0.060018 -0.082361 -0.078803   \n",
              "2     1 -1.358354 -1.340163  1.773209  0.379780 -0.503198  1.800499  0.791461   \n",
              "3     1 -0.966272 -0.185226  1.792993 -0.863291 -0.010309  1.247203  0.237609   \n",
              "4     2 -1.158233  0.877737  1.548718  0.403034 -0.407193  0.095921  0.592941   \n",
              "\n",
              "         V8        V9  ...       V21       V22       V23       V24       V25  \\\n",
              "0  0.098698  0.363787  ... -0.018307  0.277838 -0.110474  0.066928  0.128539   \n",
              "1  0.085102 -0.255425  ... -0.225775 -0.638672  0.101288 -0.339846  0.167170   \n",
              "2  0.247676 -1.514654  ...  0.247998  0.771679  0.909412 -0.689281 -0.327642   \n",
              "3  0.377436 -1.387024  ... -0.108300  0.005274 -0.190321 -1.175575  0.647376   \n",
              "4 -0.270533  0.817739  ... -0.009431  0.798278 -0.137458  0.141267 -0.206010   \n",
              "\n",
              "        V26       V27       V28  Amount  Class  \n",
              "0 -0.189115  0.133558 -0.021053  149.62    0.0  \n",
              "1  0.125895 -0.008983  0.014724    2.69    0.0  \n",
              "2 -0.139097 -0.055353 -0.059752  378.66    0.0  \n",
              "3 -0.221929  0.062723  0.061458  123.50    0.0  \n",
              "4  0.502292  0.219422  0.215153   69.99    0.0  \n",
              "\n",
              "[5 rows x 31 columns]"
            ],
            "text/html": [
              "\n",
              "  <div id=\"df-af474c87-c427-41f7-b536-bba590a669cf\">\n",
              "    <div class=\"colab-df-container\">\n",
              "      <div>\n",
              "<style scoped>\n",
              "    .dataframe tbody tr th:only-of-type {\n",
              "        vertical-align: middle;\n",
              "    }\n",
              "\n",
              "    .dataframe tbody tr th {\n",
              "        vertical-align: top;\n",
              "    }\n",
              "\n",
              "    .dataframe thead th {\n",
              "        text-align: right;\n",
              "    }\n",
              "</style>\n",
              "<table border=\"1\" class=\"dataframe\">\n",
              "  <thead>\n",
              "    <tr style=\"text-align: right;\">\n",
              "      <th></th>\n",
              "      <th>Time</th>\n",
              "      <th>V1</th>\n",
              "      <th>V2</th>\n",
              "      <th>V3</th>\n",
              "      <th>V4</th>\n",
              "      <th>V5</th>\n",
              "      <th>V6</th>\n",
              "      <th>V7</th>\n",
              "      <th>V8</th>\n",
              "      <th>V9</th>\n",
              "      <th>...</th>\n",
              "      <th>V21</th>\n",
              "      <th>V22</th>\n",
              "      <th>V23</th>\n",
              "      <th>V24</th>\n",
              "      <th>V25</th>\n",
              "      <th>V26</th>\n",
              "      <th>V27</th>\n",
              "      <th>V28</th>\n",
              "      <th>Amount</th>\n",
              "      <th>Class</th>\n",
              "    </tr>\n",
              "  </thead>\n",
              "  <tbody>\n",
              "    <tr>\n",
              "      <th>0</th>\n",
              "      <td>0</td>\n",
              "      <td>-1.359807</td>\n",
              "      <td>-0.072781</td>\n",
              "      <td>2.536347</td>\n",
              "      <td>1.378155</td>\n",
              "      <td>-0.338321</td>\n",
              "      <td>0.462388</td>\n",
              "      <td>0.239599</td>\n",
              "      <td>0.098698</td>\n",
              "      <td>0.363787</td>\n",
              "      <td>...</td>\n",
              "      <td>-0.018307</td>\n",
              "      <td>0.277838</td>\n",
              "      <td>-0.110474</td>\n",
              "      <td>0.066928</td>\n",
              "      <td>0.128539</td>\n",
              "      <td>-0.189115</td>\n",
              "      <td>0.133558</td>\n",
              "      <td>-0.021053</td>\n",
              "      <td>149.62</td>\n",
              "      <td>0.0</td>\n",
              "    </tr>\n",
              "    <tr>\n",
              "      <th>1</th>\n",
              "      <td>0</td>\n",
              "      <td>1.191857</td>\n",
              "      <td>0.266151</td>\n",
              "      <td>0.166480</td>\n",
              "      <td>0.448154</td>\n",
              "      <td>0.060018</td>\n",
              "      <td>-0.082361</td>\n",
              "      <td>-0.078803</td>\n",
              "      <td>0.085102</td>\n",
              "      <td>-0.255425</td>\n",
              "      <td>...</td>\n",
              "      <td>-0.225775</td>\n",
              "      <td>-0.638672</td>\n",
              "      <td>0.101288</td>\n",
              "      <td>-0.339846</td>\n",
              "      <td>0.167170</td>\n",
              "      <td>0.125895</td>\n",
              "      <td>-0.008983</td>\n",
              "      <td>0.014724</td>\n",
              "      <td>2.69</td>\n",
              "      <td>0.0</td>\n",
              "    </tr>\n",
              "    <tr>\n",
              "      <th>2</th>\n",
              "      <td>1</td>\n",
              "      <td>-1.358354</td>\n",
              "      <td>-1.340163</td>\n",
              "      <td>1.773209</td>\n",
              "      <td>0.379780</td>\n",
              "      <td>-0.503198</td>\n",
              "      <td>1.800499</td>\n",
              "      <td>0.791461</td>\n",
              "      <td>0.247676</td>\n",
              "      <td>-1.514654</td>\n",
              "      <td>...</td>\n",
              "      <td>0.247998</td>\n",
              "      <td>0.771679</td>\n",
              "      <td>0.909412</td>\n",
              "      <td>-0.689281</td>\n",
              "      <td>-0.327642</td>\n",
              "      <td>-0.139097</td>\n",
              "      <td>-0.055353</td>\n",
              "      <td>-0.059752</td>\n",
              "      <td>378.66</td>\n",
              "      <td>0.0</td>\n",
              "    </tr>\n",
              "    <tr>\n",
              "      <th>3</th>\n",
              "      <td>1</td>\n",
              "      <td>-0.966272</td>\n",
              "      <td>-0.185226</td>\n",
              "      <td>1.792993</td>\n",
              "      <td>-0.863291</td>\n",
              "      <td>-0.010309</td>\n",
              "      <td>1.247203</td>\n",
              "      <td>0.237609</td>\n",
              "      <td>0.377436</td>\n",
              "      <td>-1.387024</td>\n",
              "      <td>...</td>\n",
              "      <td>-0.108300</td>\n",
              "      <td>0.005274</td>\n",
              "      <td>-0.190321</td>\n",
              "      <td>-1.175575</td>\n",
              "      <td>0.647376</td>\n",
              "      <td>-0.221929</td>\n",
              "      <td>0.062723</td>\n",
              "      <td>0.061458</td>\n",
              "      <td>123.50</td>\n",
              "      <td>0.0</td>\n",
              "    </tr>\n",
              "    <tr>\n",
              "      <th>4</th>\n",
              "      <td>2</td>\n",
              "      <td>-1.158233</td>\n",
              "      <td>0.877737</td>\n",
              "      <td>1.548718</td>\n",
              "      <td>0.403034</td>\n",
              "      <td>-0.407193</td>\n",
              "      <td>0.095921</td>\n",
              "      <td>0.592941</td>\n",
              "      <td>-0.270533</td>\n",
              "      <td>0.817739</td>\n",
              "      <td>...</td>\n",
              "      <td>-0.009431</td>\n",
              "      <td>0.798278</td>\n",
              "      <td>-0.137458</td>\n",
              "      <td>0.141267</td>\n",
              "      <td>-0.206010</td>\n",
              "      <td>0.502292</td>\n",
              "      <td>0.219422</td>\n",
              "      <td>0.215153</td>\n",
              "      <td>69.99</td>\n",
              "      <td>0.0</td>\n",
              "    </tr>\n",
              "  </tbody>\n",
              "</table>\n",
              "<p>5 rows × 31 columns</p>\n",
              "</div>\n",
              "      <button class=\"colab-df-convert\" onclick=\"convertToInteractive('df-af474c87-c427-41f7-b536-bba590a669cf')\"\n",
              "              title=\"Convert this dataframe to an interactive table.\"\n",
              "              style=\"display:none;\">\n",
              "        \n",
              "  <svg xmlns=\"http://www.w3.org/2000/svg\" height=\"24px\"viewBox=\"0 0 24 24\"\n",
              "       width=\"24px\">\n",
              "    <path d=\"M0 0h24v24H0V0z\" fill=\"none\"/>\n",
              "    <path d=\"M18.56 5.44l.94 2.06.94-2.06 2.06-.94-2.06-.94-.94-2.06-.94 2.06-2.06.94zm-11 1L8.5 8.5l.94-2.06 2.06-.94-2.06-.94L8.5 2.5l-.94 2.06-2.06.94zm10 10l.94 2.06.94-2.06 2.06-.94-2.06-.94-.94-2.06-.94 2.06-2.06.94z\"/><path d=\"M17.41 7.96l-1.37-1.37c-.4-.4-.92-.59-1.43-.59-.52 0-1.04.2-1.43.59L10.3 9.45l-7.72 7.72c-.78.78-.78 2.05 0 2.83L4 21.41c.39.39.9.59 1.41.59.51 0 1.02-.2 1.41-.59l7.78-7.78 2.81-2.81c.8-.78.8-2.07 0-2.86zM5.41 20L4 18.59l7.72-7.72 1.47 1.35L5.41 20z\"/>\n",
              "  </svg>\n",
              "      </button>\n",
              "      \n",
              "  <style>\n",
              "    .colab-df-container {\n",
              "      display:flex;\n",
              "      flex-wrap:wrap;\n",
              "      gap: 12px;\n",
              "    }\n",
              "\n",
              "    .colab-df-convert {\n",
              "      background-color: #E8F0FE;\n",
              "      border: none;\n",
              "      border-radius: 50%;\n",
              "      cursor: pointer;\n",
              "      display: none;\n",
              "      fill: #1967D2;\n",
              "      height: 32px;\n",
              "      padding: 0 0 0 0;\n",
              "      width: 32px;\n",
              "    }\n",
              "\n",
              "    .colab-df-convert:hover {\n",
              "      background-color: #E2EBFA;\n",
              "      box-shadow: 0px 1px 2px rgba(60, 64, 67, 0.3), 0px 1px 3px 1px rgba(60, 64, 67, 0.15);\n",
              "      fill: #174EA6;\n",
              "    }\n",
              "\n",
              "    [theme=dark] .colab-df-convert {\n",
              "      background-color: #3B4455;\n",
              "      fill: #D2E3FC;\n",
              "    }\n",
              "\n",
              "    [theme=dark] .colab-df-convert:hover {\n",
              "      background-color: #434B5C;\n",
              "      box-shadow: 0px 1px 3px 1px rgba(0, 0, 0, 0.15);\n",
              "      filter: drop-shadow(0px 1px 2px rgba(0, 0, 0, 0.3));\n",
              "      fill: #FFFFFF;\n",
              "    }\n",
              "  </style>\n",
              "\n",
              "      <script>\n",
              "        const buttonEl =\n",
              "          document.querySelector('#df-af474c87-c427-41f7-b536-bba590a669cf button.colab-df-convert');\n",
              "        buttonEl.style.display =\n",
              "          google.colab.kernel.accessAllowed ? 'block' : 'none';\n",
              "\n",
              "        async function convertToInteractive(key) {\n",
              "          const element = document.querySelector('#df-af474c87-c427-41f7-b536-bba590a669cf');\n",
              "          const dataTable =\n",
              "            await google.colab.kernel.invokeFunction('convertToInteractive',\n",
              "                                                     [key], {});\n",
              "          if (!dataTable) return;\n",
              "\n",
              "          const docLinkHtml = 'Like what you see? Visit the ' +\n",
              "            '<a target=\"_blank\" href=https://colab.research.google.com/notebooks/data_table.ipynb>data table notebook</a>'\n",
              "            + ' to learn more about interactive tables.';\n",
              "          element.innerHTML = '';\n",
              "          dataTable['output_type'] = 'display_data';\n",
              "          await google.colab.output.renderOutput(dataTable, element);\n",
              "          const docLink = document.createElement('div');\n",
              "          docLink.innerHTML = docLinkHtml;\n",
              "          element.appendChild(docLink);\n",
              "        }\n",
              "      </script>\n",
              "    </div>\n",
              "  </div>\n",
              "  "
            ]
          },
          "metadata": {},
          "execution_count": 1
        }
      ],
      "source": [
        "import pandas as pd\n",
        "\n",
        "dados = pd.read_csv('creditcard.csv')\n",
        "dados.head()"
      ]
    },
    {
      "cell_type": "code",
      "source": [
        "dados = dados.dropna()"
      ],
      "metadata": {
        "id": "3rsrTF2gE6Y2"
      },
      "execution_count": null,
      "outputs": []
    },
    {
      "cell_type": "code",
      "source": [
        "n_transacoes = dados['Class'].count()\n",
        "n_fraudes = dados['Class'].sum()\n",
        "n_normais = n_transacoes - n_fraudes\n",
        "fraudes_porc = n_fraudes/n_transacoes\n",
        "normais_porc = n_normais/n_transacoes\n",
        "\n",
        "print('Número de transações:', n_transacoes)\n",
        "print('Número de fraudes:', n_fraudes, '%.2f'%(fraudes_porc*100))\n",
        "print('Número de transações normais:', n_normais, '%.2f'%(normais_porc*100))\n",
        "print('Dados desbalenceados!')"
      ],
      "metadata": {
        "colab": {
          "base_uri": "https://localhost:8080/"
        },
        "id": "cazKD_Fl_dC_",
        "outputId": "1fea91ec-e581-4095-dd58-87c00aeefc8f"
      },
      "execution_count": null,
      "outputs": [
        {
          "output_type": "stream",
          "name": "stdout",
          "text": [
            "Número de transações: 47627\n",
            "Número de fraudes: 146.0 0.31\n",
            "Número de transações normais: 47481.0 99.69\n",
            "Dados desbalenceados!\n"
          ]
        }
      ]
    },
    {
      "cell_type": "code",
      "source": [
        "from sklearn.model_selection import StratifiedShuffleSplit\n",
        "\n",
        "def executar_validador(x, y):\n",
        "  validador = StratifiedShuffleSplit(n_splits=1, test_size=0.1, random_state=0)\n",
        "  for treino_id, teste_id in validador.split(x,y):\n",
        "    x_train, x_test = x[treino_id], x[teste_id]\n",
        "    y_train, y_test = y[treino_id], y[teste_id]\n",
        "  return x_train, x_test, y_train, y_test"
      ],
      "metadata": {
        "id": "wFUcISl9BDFB"
      },
      "execution_count": null,
      "outputs": []
    },
    {
      "cell_type": "code",
      "source": [
        "from sklearn import tree\n",
        "\n",
        "def executar_classificador(classificador, x_train, x_test, y_train):\n",
        "  arvore = classificador.fit(x_train, y_train)\n",
        "  y_pred = arvore.predict(x_test)\n",
        "  return y_pred"
      ],
      "metadata": {
        "id": "nICxJOqzEAwp"
      },
      "execution_count": null,
      "outputs": []
    },
    {
      "cell_type": "code",
      "source": [
        "import matplotlib.pyplot as plt\n",
        "\n",
        "def salvar_arvore(classificador, nome):\n",
        "  plt.figure(figsize=(200,100))\n",
        "  tree.plot_tree(classificador, filled=True, fontsize=14)\n",
        "  plt.savefig(nome)\n",
        "  plt.close()"
      ],
      "metadata": {
        "id": "PN324GDgIfs3"
      },
      "execution_count": null,
      "outputs": []
    },
    {
      "cell_type": "code",
      "source": [
        "from sklearn.metrics import accuracy_score\n",
        "from sklearn.metrics import confusion_matrix\n",
        "from sklearn.metrics import precision_score\n",
        "from sklearn.metrics import recall_score\n",
        "\n",
        "def validar_arvore(y_test, y_pred):\n",
        "  print('acuracia: ', accuracy_score(y_test, y_pred))\n",
        "  print('precisao: ', precision_score(y_test, y_pred))\n",
        "  print('recall score: ',recall_score(y_test, y_pred))\n",
        "  print('confusion matrix:\\n',confusion_matrix(y_test, y_pred))"
      ],
      "metadata": {
        "id": "ZiRjseyFLAJ1"
      },
      "execution_count": null,
      "outputs": []
    },
    {
      "cell_type": "code",
      "source": [
        "#execução do validador\n",
        "x = dados.drop('Class', axis=1).values\n",
        "y = dados['Class'].values\n",
        "x_train, x_test, y_train, y_test = executar_validador(x, y)"
      ],
      "metadata": {
        "id": "KuXG2GLQDWqt"
      },
      "execution_count": null,
      "outputs": []
    },
    {
      "cell_type": "code",
      "source": [
        "#Execuçaõ do classificador\n",
        "classificador_arvoro_decisao = tree.DecisionTreeClassifier()\n",
        "y_pred_arvore_decisao = executar_classificador(classificador_arvoro_decisao, x_train, x_test, y_train)"
      ],
      "metadata": {
        "id": "6P77H5s7Fxd4"
      },
      "execution_count": null,
      "outputs": []
    },
    {
      "cell_type": "code",
      "source": [
        "#Criação da figura da arvore de decisão \n",
        "salvar_arvore(classificador_arvoro_decisao, 'arvore_decisao1.png')"
      ],
      "metadata": {
        "id": "wa67i0DQJOEj"
      },
      "execution_count": null,
      "outputs": []
    },
    {
      "cell_type": "code",
      "source": [
        "#Validar a arvore de decisão\n",
        "validar_arvore(y_test, y_pred_arvore_decisao)"
      ],
      "metadata": {
        "colab": {
          "base_uri": "https://localhost:8080/"
        },
        "id": "4AsBoS3WJXAE",
        "outputId": "42f28130-7033-4be1-a616-081926aeb834"
      },
      "execution_count": null,
      "outputs": [
        {
          "output_type": "stream",
          "name": "stdout",
          "text": [
            "acuracia:  0.9991601931555742\n",
            "precisao:  0.8666666666666667\n",
            "recall score:  0.8666666666666667\n",
            "confusion matrix:\n",
            " [[4746    2]\n",
            " [   2   13]]\n"
          ]
        }
      ]
    },
    {
      "cell_type": "code",
      "source": [
        "print(classificador_arvoro_decisao.get_depth())"
      ],
      "metadata": {
        "colab": {
          "base_uri": "https://localhost:8080/"
        },
        "id": "QdA6MdXYLZTf",
        "outputId": "c755cf28-1eb8-421d-fc83-b1c0d1c21612"
      },
      "execution_count": null,
      "outputs": [
        {
          "output_type": "stream",
          "name": "stdout",
          "text": [
            "11\n"
          ]
        }
      ]
    },
    {
      "cell_type": "code",
      "source": [
        "#Execuçaõ do classificador\n",
        "classificador_arvoro_decisao = tree.DecisionTreeClassifier(max_depth=10, random_state=0)\n",
        "y_pred_arvore_decisao = executar_classificador(classificador_arvoro_decisao, x_train, x_test, y_train)"
      ],
      "metadata": {
        "id": "Lr1t5ygES5yH"
      },
      "execution_count": null,
      "outputs": []
    },
    {
      "cell_type": "code",
      "source": [
        "validar_arvore(y_test, y_pred_arvore_decisao)"
      ],
      "metadata": {
        "colab": {
          "base_uri": "https://localhost:8080/"
        },
        "id": "_JWGNcuHUJzt",
        "outputId": "f801208e-d228-4f3c-e031-0e2437e1299c"
      },
      "execution_count": null,
      "outputs": [
        {
          "output_type": "stream",
          "name": "stdout",
          "text": [
            "acuracia:  0.9991601931555742\n",
            "precisao:  0.8666666666666667\n",
            "recall score:  0.8666666666666667\n",
            "confusion matrix:\n",
            " [[4746    2]\n",
            " [   2   13]]\n"
          ]
        }
      ]
    },
    {
      "cell_type": "code",
      "source": [
        "#Execuçaõ do classificador\n",
        "classificador_arvoro_decisao = tree.DecisionTreeClassifier(max_depth=10, random_state=0, min_samples_leaf=10)\n",
        "y_pred_arvore_decisao = executar_classificador(classificador_arvoro_decisao, x_train, x_test, y_train)\n",
        "validar_arvore(y_test, y_pred_arvore_decisao)\n",
        "\n",
        "#Piorou resultado"
      ],
      "metadata": {
        "colab": {
          "base_uri": "https://localhost:8080/"
        },
        "id": "AHNxxE-UUOlA",
        "outputId": "9702cb73-c575-46bd-a7e2-e5574ee10d47"
      },
      "execution_count": null,
      "outputs": [
        {
          "output_type": "stream",
          "name": "stdout",
          "text": [
            "acuracia:  0.9993701448666806\n",
            "precisao:  0.8333333333333334\n",
            "recall score:  1.0\n",
            "confusion matrix:\n",
            " [[4745    3]\n",
            " [   0   15]]\n"
          ]
        }
      ]
    },
    {
      "cell_type": "code",
      "source": [
        "#Execuçaõ do classificador\n",
        "classificador_arvoro_decisao = tree.DecisionTreeClassifier(max_depth=5, random_state=0)\n",
        "y_pred_arvore_decisao = executar_classificador(classificador_arvoro_decisao, x_train, x_test, y_train)\n",
        "validar_arvore(y_test, y_pred_arvore_decisao)\n",
        "\n",
        "#Piorou o resultado"
      ],
      "metadata": {
        "colab": {
          "base_uri": "https://localhost:8080/"
        },
        "id": "cj6BzYdDUYLr",
        "outputId": "96720368-b899-4bff-a806-b9d2235b2c69"
      },
      "execution_count": null,
      "outputs": [
        {
          "output_type": "stream",
          "name": "stdout",
          "text": [
            "acuracia:  0.9991601931555742\n",
            "precisao:  0.8666666666666667\n",
            "recall score:  0.8666666666666667\n",
            "confusion matrix:\n",
            " [[4746    2]\n",
            " [   2   13]]\n"
          ]
        }
      ]
    },
    {
      "cell_type": "markdown",
      "source": [
        "## **Como melhorar os resultados: Ensemble learning**\n",
        "\n",
        "Técncica Bagging consiste em gerar modelos independentes umas das outras e depois fazer a agregação do resultado de várias árvores\n",
        "\n",
        "## Ramdom Forest"
      ],
      "metadata": {
        "id": "0p8pdeHYVgAU"
      }
    },
    {
      "cell_type": "code",
      "source": [
        "from sklearn.ensemble import RandomForestClassifier\n",
        "\n",
        "classificador_random_forest = RandomForestClassifier(n_estimators=100, random_state=0)\n",
        "y_pred_random_forest = executar_classificador(classificador_random_forest, x_train, x_test, y_train)"
      ],
      "metadata": {
        "id": "apJCZ3zSVn5r"
      },
      "execution_count": null,
      "outputs": []
    },
    {
      "cell_type": "code",
      "source": [
        "salvar_arvore(classificador_random_forest.estimators_[0], 'random_forest1.png')\n",
        "salvar_arvore(classificador_random_forest.estimators_[1], 'random_forest2.png')"
      ],
      "metadata": {
        "id": "KO9b6zWEYCbz"
      },
      "execution_count": null,
      "outputs": []
    },
    {
      "cell_type": "code",
      "source": [
        "validar_arvore(y_test, y_pred_random_forest)\n",
        "print('recall melhorou muito!')"
      ],
      "metadata": {
        "colab": {
          "base_uri": "https://localhost:8080/"
        },
        "id": "_QCFCrhuYPLt",
        "outputId": "5b69ad3e-c64f-4435-d2d8-eb2dd6066918"
      },
      "execution_count": null,
      "outputs": [
        {
          "output_type": "stream",
          "name": "stdout",
          "text": [
            "acuracia:  0.9993701448666806\n",
            "precisao:  0.875\n",
            "recall score:  0.9333333333333333\n",
            "confusion matrix:\n",
            " [[4746    2]\n",
            " [   1   14]]\n",
            "recall melhorou muito!\n"
          ]
        }
      ]
    },
    {
      "cell_type": "code",
      "source": [
        "%%time\n",
        "classificador_random_forest = RandomForestClassifier(n_estimators=50, random_state=0, max_depth=10)\n",
        "y_pred_random_forest = executar_classificador(classificador_random_forest, x_train, x_test, y_train)\n",
        "validar_arvore(y_test, y_pred_random_forest)\n",
        "print('resultado praticamente iguais, porém tempo bem menor de execução')"
      ],
      "metadata": {
        "colab": {
          "base_uri": "https://localhost:8080/"
        },
        "id": "Kd1xm4CIY5-d",
        "outputId": "ce8ec0e0-1df8-4017-81a0-a4cadc7c2d8a"
      },
      "execution_count": null,
      "outputs": [
        {
          "output_type": "stream",
          "name": "stdout",
          "text": [
            "acuracia:  0.9993701448666806\n",
            "precisao:  0.875\n",
            "recall score:  0.9333333333333333\n",
            "confusion matrix:\n",
            " [[4746    2]\n",
            " [   1   14]]\n",
            "resultado praticamente iguais, porém tempo bem menor de execução\n",
            "CPU times: user 11.2 s, sys: 20 ms, total: 11.2 s\n",
            "Wall time: 11.3 s\n"
          ]
        }
      ]
    },
    {
      "cell_type": "markdown",
      "source": [
        "Técnica Boosting: Modelos que se completam (modelos sequenciais); Toda vez que a árvore é gerada ela tanta corrigir o modelo anterior\n",
        "\n",
        "## AdaBoost\n",
        "\n",
        "Composta de 1 nó e dois filhos - possui profundidade pequena\n",
        "\n",
        "Valor de influência da árvore: quanto maior o valor maior a influência que a árvore tem na sequência"
      ],
      "metadata": {
        "id": "6479knMbkOBL"
      }
    },
    {
      "cell_type": "code",
      "source": [
        "from sklearn.ensemble import AdaBoostClassifier\n",
        "\n",
        "classificador_adaboost = AdaBoostClassifier(random_state=0)\n",
        "y_pred_adaboost = executar_classificador(classificador_adaboost,  x_train, x_test, y_train)"
      ],
      "metadata": {
        "id": "0AG3P-OPZNXB"
      },
      "execution_count": null,
      "outputs": []
    },
    {
      "cell_type": "code",
      "source": [
        "salvar_arvore(classificador_adaboost.estimators_[0],'adaboost1')\n",
        "salvar_arvore(classificador_adaboost.estimators_[1],'adaboost2')"
      ],
      "metadata": {
        "id": "fS64OPpqncHU"
      },
      "execution_count": null,
      "outputs": []
    },
    {
      "cell_type": "code",
      "source": [
        "validar_arvore(y_test, y_pred_adaboost)"
      ],
      "metadata": {
        "colab": {
          "base_uri": "https://localhost:8080/"
        },
        "id": "Z4lY3BYAnoRU",
        "outputId": "a2fedd49-35f6-456b-e84e-43e700971edf"
      },
      "execution_count": null,
      "outputs": [
        {
          "output_type": "stream",
          "name": "stdout",
          "text": [
            "acuracia:  0.9997900482888935\n",
            "precisao:  0.9375\n",
            "recall score:  1.0\n",
            "confusion matrix:\n",
            " [[4747    1]\n",
            " [   0   15]]\n"
          ]
        }
      ]
    },
    {
      "cell_type": "code",
      "source": [
        "#melhorar atributos\n",
        "\n",
        "classificador_adaboost = AdaBoostClassifier(random_state=0, n_estimators=100)\n",
        "y_pred_adaboost = executar_classificador(classificador_adaboost,  x_train, x_test, y_train)\n",
        "validar_arvore(y_test, y_pred_adaboost)"
      ],
      "metadata": {
        "colab": {
          "base_uri": "https://localhost:8080/"
        },
        "id": "SFoafhZMnzc-",
        "outputId": "92025770-92a6-45bb-a553-48458aa54268"
      },
      "execution_count": null,
      "outputs": [
        {
          "output_type": "stream",
          "name": "stdout",
          "text": [
            "acuracia:  0.9995800965777871\n",
            "precisao:  0.8823529411764706\n",
            "recall score:  1.0\n",
            "confusion matrix:\n",
            " [[4746    2]\n",
            " [   0   15]]\n"
          ]
        }
      ]
    },
    {
      "cell_type": "code",
      "source": [
        ""
      ],
      "metadata": {
        "id": "Nj78prFxoa4K"
      },
      "execution_count": null,
      "outputs": []
    }
  ]
}